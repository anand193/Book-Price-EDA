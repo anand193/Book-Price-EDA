{
 "cells": [
  {
   "cell_type": "code",
   "execution_count": 1,
   "id": "b3070a10-6ad5-4b14-8c2c-7b13724c95d6",
   "metadata": {},
   "outputs": [],
   "source": [
    "#import libraries"
   ]
  },
  {
   "cell_type": "code",
   "execution_count": 603,
   "id": "55157a05-4200-4379-a06a-ef4fa185d5f1",
   "metadata": {},
   "outputs": [],
   "source": [
    "import pandas as pd\n",
    "import numpy as np\n",
    "import matplotlib.pyplot as plt\n",
    "import seaborn as sns\n",
    "import scipy.stats as stats\n",
    "import warnings\n",
    "warnings.filterwarnings('ignore')"
   ]
  },
  {
   "cell_type": "code",
   "execution_count": null,
   "id": "df108651-f98a-43c9-b2e5-0c8d2c73dca4",
   "metadata": {},
   "outputs": [],
   "source": [
    "#load datasets"
   ]
  },
  {
   "cell_type": "code",
   "execution_count": 605,
   "id": "ce9b48a7-05df-4a5a-b97e-74c28e58fee1",
   "metadata": {},
   "outputs": [],
   "source": [
    "data = pd.read_excel('Data_Train.xlsx')"
   ]
  },
  {
   "cell_type": "code",
   "execution_count": null,
   "id": "7eb465bf-8f9f-4322-8f11-2da94beadece",
   "metadata": {},
   "outputs": [],
   "source": [
    "#Basic Structure"
   ]
  },
  {
   "cell_type": "code",
   "execution_count": 607,
   "id": "83329486-cdda-4b68-ba3d-5a42188562c0",
   "metadata": {},
   "outputs": [
    {
     "data": {
      "text/plain": [
       "(6237, 9)"
      ]
     },
     "execution_count": 607,
     "metadata": {},
     "output_type": "execute_result"
    }
   ],
   "source": [
    "data.shape"
   ]
  },
  {
   "cell_type": "code",
   "execution_count": 609,
   "id": "c01cd79b-a900-4ca9-8f57-2e7a82ecbced",
   "metadata": {},
   "outputs": [
    {
     "name": "stdout",
     "output_type": "stream",
     "text": [
      "<class 'pandas.core.frame.DataFrame'>\n",
      "RangeIndex: 6237 entries, 0 to 6236\n",
      "Data columns (total 9 columns):\n",
      " #   Column        Non-Null Count  Dtype  \n",
      "---  ------        --------------  -----  \n",
      " 0   Title         6237 non-null   object \n",
      " 1   Author        6237 non-null   object \n",
      " 2   Edition       6237 non-null   object \n",
      " 3   Reviews       6237 non-null   object \n",
      " 4   Ratings       6237 non-null   object \n",
      " 5   Synopsis      6237 non-null   object \n",
      " 6   Genre         6237 non-null   object \n",
      " 7   BookCategory  6237 non-null   object \n",
      " 8   Price         6237 non-null   float64\n",
      "dtypes: float64(1), object(8)\n",
      "memory usage: 438.7+ KB\n"
     ]
    }
   ],
   "source": [
    "data.info()"
   ]
  },
  {
   "cell_type": "markdown",
   "id": "8d8e9f6c-e06e-46f2-841b-88dc16cbf474",
   "metadata": {},
   "source": [
    "**missing values**"
   ]
  },
  {
   "cell_type": "code",
   "execution_count": 601,
   "id": "dfa469c6-9471-41ba-a437-954ac950ca0a",
   "metadata": {},
   "outputs": [
    {
     "data": {
      "text/plain": [
       "Series([], dtype: int64)"
      ]
     },
     "execution_count": 601,
     "metadata": {},
     "output_type": "execute_result"
    }
   ],
   "source": [
    "data.isnull().sum()[data.isnull().sum() !=0]"
   ]
  },
  {
   "cell_type": "code",
   "execution_count": null,
   "id": "22cef1da-9f31-487d-967c-47b025de4b92",
   "metadata": {},
   "outputs": [],
   "source": [
    "#we have no missing values"
   ]
  },
  {
   "cell_type": "markdown",
   "id": "0f9c37ff-f8c1-4843-9296-9fe690f84fbd",
   "metadata": {},
   "source": [
    "**feature engineering**"
   ]
  },
  {
   "cell_type": "code",
   "execution_count": null,
   "id": "fde55cca-1ee8-4718-b688-52d77dc9dbde",
   "metadata": {},
   "outputs": [],
   "source": [
    "#\"Since the original dataset is largely unstructured (mostly text), I performed initial cleaning and feature engineering before meaningful EDA.\""
   ]
  },
  {
   "cell_type": "code",
   "execution_count": 613,
   "id": "2e48a3dc-24da-4499-8e3b-a258f58e3f33",
   "metadata": {},
   "outputs": [
    {
     "data": {
      "text/html": [
       "<div>\n",
       "<style scoped>\n",
       "    .dataframe tbody tr th:only-of-type {\n",
       "        vertical-align: middle;\n",
       "    }\n",
       "\n",
       "    .dataframe tbody tr th {\n",
       "        vertical-align: top;\n",
       "    }\n",
       "\n",
       "    .dataframe thead th {\n",
       "        text-align: right;\n",
       "    }\n",
       "</style>\n",
       "<table border=\"1\" class=\"dataframe\">\n",
       "  <thead>\n",
       "    <tr style=\"text-align: right;\">\n",
       "      <th></th>\n",
       "      <th>Title</th>\n",
       "      <th>Author</th>\n",
       "      <th>Edition</th>\n",
       "      <th>Reviews</th>\n",
       "      <th>Ratings</th>\n",
       "      <th>Synopsis</th>\n",
       "      <th>Genre</th>\n",
       "      <th>BookCategory</th>\n",
       "      <th>Price</th>\n",
       "    </tr>\n",
       "  </thead>\n",
       "  <tbody>\n",
       "    <tr>\n",
       "      <th>0</th>\n",
       "      <td>The Prisoner's Gold (The Hunters 3)</td>\n",
       "      <td>Chris Kuzneski</td>\n",
       "      <td>Paperback,– 10 Mar 2016</td>\n",
       "      <td>4.0 out of 5 stars</td>\n",
       "      <td>8 customer reviews</td>\n",
       "      <td>THE HUNTERS return in their third brilliant no...</td>\n",
       "      <td>Action &amp; Adventure (Books)</td>\n",
       "      <td>Action &amp; Adventure</td>\n",
       "      <td>220.00</td>\n",
       "    </tr>\n",
       "    <tr>\n",
       "      <th>1</th>\n",
       "      <td>Guru Dutt: A Tragedy in Three Acts</td>\n",
       "      <td>Arun Khopkar</td>\n",
       "      <td>Paperback,– 7 Nov 2012</td>\n",
       "      <td>3.9 out of 5 stars</td>\n",
       "      <td>14 customer reviews</td>\n",
       "      <td>A layered portrait of a troubled genius for wh...</td>\n",
       "      <td>Cinema &amp; Broadcast (Books)</td>\n",
       "      <td>Biographies, Diaries &amp; True Accounts</td>\n",
       "      <td>202.93</td>\n",
       "    </tr>\n",
       "    <tr>\n",
       "      <th>2</th>\n",
       "      <td>Leviathan (Penguin Classics)</td>\n",
       "      <td>Thomas Hobbes</td>\n",
       "      <td>Paperback,– 25 Feb 1982</td>\n",
       "      <td>4.8 out of 5 stars</td>\n",
       "      <td>6 customer reviews</td>\n",
       "      <td>\"During the time men live without a common Pow...</td>\n",
       "      <td>International Relations</td>\n",
       "      <td>Humour</td>\n",
       "      <td>299.00</td>\n",
       "    </tr>\n",
       "    <tr>\n",
       "      <th>3</th>\n",
       "      <td>A Pocket Full of Rye (Miss Marple)</td>\n",
       "      <td>Agatha Christie</td>\n",
       "      <td>Paperback,– 5 Oct 2017</td>\n",
       "      <td>4.1 out of 5 stars</td>\n",
       "      <td>13 customer reviews</td>\n",
       "      <td>A handful of grain is found in the pocket of a...</td>\n",
       "      <td>Contemporary Fiction (Books)</td>\n",
       "      <td>Crime, Thriller &amp; Mystery</td>\n",
       "      <td>180.00</td>\n",
       "    </tr>\n",
       "    <tr>\n",
       "      <th>4</th>\n",
       "      <td>LIFE 70 Years of Extraordinary Photography</td>\n",
       "      <td>Editors of Life</td>\n",
       "      <td>Hardcover,– 10 Oct 2006</td>\n",
       "      <td>5.0 out of 5 stars</td>\n",
       "      <td>1 customer review</td>\n",
       "      <td>For seven decades, \"Life\" has been thrilling t...</td>\n",
       "      <td>Photography Textbooks</td>\n",
       "      <td>Arts, Film &amp; Photography</td>\n",
       "      <td>965.62</td>\n",
       "    </tr>\n",
       "  </tbody>\n",
       "</table>\n",
       "</div>"
      ],
      "text/plain": [
       "                                        Title           Author  \\\n",
       "0         The Prisoner's Gold (The Hunters 3)   Chris Kuzneski   \n",
       "1          Guru Dutt: A Tragedy in Three Acts     Arun Khopkar   \n",
       "2                Leviathan (Penguin Classics)    Thomas Hobbes   \n",
       "3          A Pocket Full of Rye (Miss Marple)  Agatha Christie   \n",
       "4  LIFE 70 Years of Extraordinary Photography  Editors of Life   \n",
       "\n",
       "                   Edition             Reviews              Ratings  \\\n",
       "0  Paperback,– 10 Mar 2016  4.0 out of 5 stars   8 customer reviews   \n",
       "1   Paperback,– 7 Nov 2012  3.9 out of 5 stars  14 customer reviews   \n",
       "2  Paperback,– 25 Feb 1982  4.8 out of 5 stars   6 customer reviews   \n",
       "3   Paperback,– 5 Oct 2017  4.1 out of 5 stars  13 customer reviews   \n",
       "4  Hardcover,– 10 Oct 2006  5.0 out of 5 stars    1 customer review   \n",
       "\n",
       "                                            Synopsis  \\\n",
       "0  THE HUNTERS return in their third brilliant no...   \n",
       "1  A layered portrait of a troubled genius for wh...   \n",
       "2  \"During the time men live without a common Pow...   \n",
       "3  A handful of grain is found in the pocket of a...   \n",
       "4  For seven decades, \"Life\" has been thrilling t...   \n",
       "\n",
       "                          Genre                          BookCategory   Price  \n",
       "0    Action & Adventure (Books)                    Action & Adventure  220.00  \n",
       "1    Cinema & Broadcast (Books)  Biographies, Diaries & True Accounts  202.93  \n",
       "2       International Relations                                Humour  299.00  \n",
       "3  Contemporary Fiction (Books)             Crime, Thriller & Mystery  180.00  \n",
       "4         Photography Textbooks              Arts, Film & Photography  965.62  "
      ]
     },
     "execution_count": 613,
     "metadata": {},
     "output_type": "execute_result"
    }
   ],
   "source": [
    "data.head()"
   ]
  },
  {
   "cell_type": "code",
   "execution_count": 17,
   "id": "2d645b9f-f71e-496c-a50f-b1b9e6d9248a",
   "metadata": {},
   "outputs": [
    {
     "data": {
      "text/plain": [
       "array(['4.0 out of 5 stars', '3.9 out of 5 stars', '4.8 out of 5 stars',\n",
       "       '4.1 out of 5 stars', '5.0 out of 5 stars', '4.5 out of 5 stars',\n",
       "       '4.4 out of 5 stars', '4.7 out of 5 stars', '4.2 out of 5 stars',\n",
       "       '4.9 out of 5 stars', '3.5 out of 5 stars', '3.8 out of 5 stars',\n",
       "       '4.3 out of 5 stars', '3.1 out of 5 stars', '4.6 out of 5 stars',\n",
       "       '2.0 out of 5 stars', '3.7 out of 5 stars', '3.2 out of 5 stars',\n",
       "       '2.6 out of 5 stars', '2.8 out of 5 stars', '3.4 out of 5 stars',\n",
       "       '2.9 out of 5 stars', '3.3 out of 5 stars', '3.0 out of 5 stars',\n",
       "       '2.5 out of 5 stars', '1.0 out of 5 stars', '3.6 out of 5 stars',\n",
       "       '2.7 out of 5 stars', '1.5 out of 5 stars', '2.3 out of 5 stars',\n",
       "       '1.7 out of 5 stars', '2.2 out of 5 stars', '1.4 out of 5 stars',\n",
       "       '2.4 out of 5 stars', '1.6 out of 5 stars', '2.1 out of 5 stars'],\n",
       "      dtype=object)"
      ]
     },
     "execution_count": 17,
     "metadata": {},
     "output_type": "execute_result"
    }
   ],
   "source": [
    "data['Reviews'].unique()"
   ]
  },
  {
   "cell_type": "code",
   "execution_count": null,
   "id": "693e46fd-136f-40a5-8926-305ec11ff226",
   "metadata": {},
   "outputs": [],
   "source": [
    "#here we will split the ratings which we got out of 5 stars. here's how we do it."
   ]
  },
  {
   "cell_type": "code",
   "execution_count": 615,
   "id": "972d2b9a-aa1a-4548-8cfb-934efb02b645",
   "metadata": {},
   "outputs": [],
   "source": [
    "def rating(x):\n",
    "    return x.split(' ')[0]"
   ]
  },
  {
   "cell_type": "code",
   "execution_count": 617,
   "id": "e803f2c2-a5c7-4ff0-acca-ca5f797d9a1d",
   "metadata": {},
   "outputs": [],
   "source": [
    "data['ratings'] = data['Reviews'].apply(rating)"
   ]
  },
  {
   "cell_type": "code",
   "execution_count": 619,
   "id": "b6c32689-6917-492f-ba65-991727da300f",
   "metadata": {},
   "outputs": [
    {
     "data": {
      "text/html": [
       "<div>\n",
       "<style scoped>\n",
       "    .dataframe tbody tr th:only-of-type {\n",
       "        vertical-align: middle;\n",
       "    }\n",
       "\n",
       "    .dataframe tbody tr th {\n",
       "        vertical-align: top;\n",
       "    }\n",
       "\n",
       "    .dataframe thead th {\n",
       "        text-align: right;\n",
       "    }\n",
       "</style>\n",
       "<table border=\"1\" class=\"dataframe\">\n",
       "  <thead>\n",
       "    <tr style=\"text-align: right;\">\n",
       "      <th></th>\n",
       "      <th>Title</th>\n",
       "      <th>Author</th>\n",
       "      <th>Edition</th>\n",
       "      <th>Reviews</th>\n",
       "      <th>Ratings</th>\n",
       "      <th>Synopsis</th>\n",
       "      <th>Genre</th>\n",
       "      <th>BookCategory</th>\n",
       "      <th>Price</th>\n",
       "      <th>ratings</th>\n",
       "    </tr>\n",
       "  </thead>\n",
       "  <tbody>\n",
       "    <tr>\n",
       "      <th>0</th>\n",
       "      <td>The Prisoner's Gold (The Hunters 3)</td>\n",
       "      <td>Chris Kuzneski</td>\n",
       "      <td>Paperback,– 10 Mar 2016</td>\n",
       "      <td>4.0 out of 5 stars</td>\n",
       "      <td>8 customer reviews</td>\n",
       "      <td>THE HUNTERS return in their third brilliant no...</td>\n",
       "      <td>Action &amp; Adventure (Books)</td>\n",
       "      <td>Action &amp; Adventure</td>\n",
       "      <td>220.0</td>\n",
       "      <td>4.0</td>\n",
       "    </tr>\n",
       "  </tbody>\n",
       "</table>\n",
       "</div>"
      ],
      "text/plain": [
       "                                 Title          Author  \\\n",
       "0  The Prisoner's Gold (The Hunters 3)  Chris Kuzneski   \n",
       "\n",
       "                   Edition             Reviews             Ratings  \\\n",
       "0  Paperback,– 10 Mar 2016  4.0 out of 5 stars  8 customer reviews   \n",
       "\n",
       "                                            Synopsis  \\\n",
       "0  THE HUNTERS return in their third brilliant no...   \n",
       "\n",
       "                        Genre        BookCategory  Price ratings  \n",
       "0  Action & Adventure (Books)  Action & Adventure  220.0     4.0  "
      ]
     },
     "execution_count": 619,
     "metadata": {},
     "output_type": "execute_result"
    }
   ],
   "source": [
    "data.head(1)"
   ]
  },
  {
   "cell_type": "code",
   "execution_count": null,
   "id": "103414d7-815e-4969-a705-eb0dd10c157b",
   "metadata": {},
   "outputs": [],
   "source": [
    "#here made a function to extract rating part from Reviews using split function."
   ]
  },
  {
   "cell_type": "code",
   "execution_count": null,
   "id": "d205d253-8814-4610-ab98-0c4733c7e571",
   "metadata": {},
   "outputs": [],
   "source": []
  },
  {
   "cell_type": "code",
   "execution_count": null,
   "id": "927b43c8-fe95-4276-9055-22c43a723620",
   "metadata": {},
   "outputs": [],
   "source": [
    "#then we dealt with Ratings columns, it shows customers total reviews "
   ]
  },
  {
   "cell_type": "code",
   "execution_count": 47,
   "id": "58134ca6-2593-4c5b-88d3-a953a1c5170f",
   "metadata": {},
   "outputs": [
    {
     "data": {
      "text/plain": [
       "342"
      ]
     },
     "execution_count": 47,
     "metadata": {},
     "output_type": "execute_result"
    }
   ],
   "source": [
    "data['Ratings'].nunique()"
   ]
  },
  {
   "cell_type": "code",
   "execution_count": null,
   "id": "f1bfd0c3-a8fd-40b1-8557-698bdeb41c89",
   "metadata": {},
   "outputs": [],
   "source": [
    "#now we will split reviews numerical part from ratings column"
   ]
  },
  {
   "cell_type": "code",
   "execution_count": 621,
   "id": "675be9ff-296b-45c3-92db-1c7ee8f3fa0d",
   "metadata": {},
   "outputs": [],
   "source": [
    "def review(x):\n",
    "    return x.split(' ')[0]"
   ]
  },
  {
   "cell_type": "code",
   "execution_count": 623,
   "id": "61c26562-ac34-4fd7-ae82-b2b4b0feea4e",
   "metadata": {},
   "outputs": [],
   "source": [
    "data['reviews'] = data['Ratings'].apply(review)"
   ]
  },
  {
   "cell_type": "code",
   "execution_count": 627,
   "id": "02d662e6-af51-4084-91ae-584f3e664844",
   "metadata": {},
   "outputs": [
    {
     "data": {
      "text/html": [
       "<div>\n",
       "<style scoped>\n",
       "    .dataframe tbody tr th:only-of-type {\n",
       "        vertical-align: middle;\n",
       "    }\n",
       "\n",
       "    .dataframe tbody tr th {\n",
       "        vertical-align: top;\n",
       "    }\n",
       "\n",
       "    .dataframe thead th {\n",
       "        text-align: right;\n",
       "    }\n",
       "</style>\n",
       "<table border=\"1\" class=\"dataframe\">\n",
       "  <thead>\n",
       "    <tr style=\"text-align: right;\">\n",
       "      <th></th>\n",
       "      <th>Title</th>\n",
       "      <th>Author</th>\n",
       "      <th>Edition</th>\n",
       "      <th>Reviews</th>\n",
       "      <th>Ratings</th>\n",
       "      <th>Synopsis</th>\n",
       "      <th>Genre</th>\n",
       "      <th>BookCategory</th>\n",
       "      <th>Price</th>\n",
       "      <th>ratings</th>\n",
       "      <th>reviews</th>\n",
       "    </tr>\n",
       "  </thead>\n",
       "  <tbody>\n",
       "    <tr>\n",
       "      <th>0</th>\n",
       "      <td>The Prisoner's Gold (The Hunters 3)</td>\n",
       "      <td>Chris Kuzneski</td>\n",
       "      <td>Paperback,– 10 Mar 2016</td>\n",
       "      <td>4.0 out of 5 stars</td>\n",
       "      <td>8 customer reviews</td>\n",
       "      <td>THE HUNTERS return in their third brilliant no...</td>\n",
       "      <td>Action &amp; Adventure (Books)</td>\n",
       "      <td>Action &amp; Adventure</td>\n",
       "      <td>220.0</td>\n",
       "      <td>4.0</td>\n",
       "      <td>8</td>\n",
       "    </tr>\n",
       "  </tbody>\n",
       "</table>\n",
       "</div>"
      ],
      "text/plain": [
       "                                 Title          Author  \\\n",
       "0  The Prisoner's Gold (The Hunters 3)  Chris Kuzneski   \n",
       "\n",
       "                   Edition             Reviews             Ratings  \\\n",
       "0  Paperback,– 10 Mar 2016  4.0 out of 5 stars  8 customer reviews   \n",
       "\n",
       "                                            Synopsis  \\\n",
       "0  THE HUNTERS return in their third brilliant no...   \n",
       "\n",
       "                        Genre        BookCategory  Price ratings reviews  \n",
       "0  Action & Adventure (Books)  Action & Adventure  220.0     4.0       8  "
      ]
     },
     "execution_count": 627,
     "metadata": {},
     "output_type": "execute_result"
    }
   ],
   "source": [
    "data.head(1)"
   ]
  },
  {
   "cell_type": "code",
   "execution_count": null,
   "id": "cc13abe4-b81a-49aa-b1fa-3a1d24ce34c4",
   "metadata": {},
   "outputs": [],
   "source": [
    "#just like before in Ratings column we also made a function using .split()"
   ]
  },
  {
   "cell_type": "code",
   "execution_count": null,
   "id": "a08537e8-afea-4308-8107-3f4654f130ef",
   "metadata": {},
   "outputs": [],
   "source": []
  },
  {
   "cell_type": "code",
   "execution_count": null,
   "id": "b6559f9b-771a-44fe-9dba-0cb4f2e7ee58",
   "metadata": {},
   "outputs": [],
   "source": [
    "#lets explore Edition column"
   ]
  },
  {
   "cell_type": "code",
   "execution_count": 71,
   "id": "02ac3656-37a8-436d-9f34-0e32e5a0261b",
   "metadata": {},
   "outputs": [
    {
     "data": {
      "text/plain": [
       "array(['Paperback,– 10 Mar 2016', 'Paperback,– 7 Nov 2012',\n",
       "       'Paperback,– 25 Feb 1982', ..., 'Paperback,– 26 Sep 2006',\n",
       "       'Paperback,– 21 Nov 2016', 'Paperback,– 15 Jan 2015'], dtype=object)"
      ]
     },
     "execution_count": 71,
     "metadata": {},
     "output_type": "execute_result"
    }
   ],
   "source": [
    "data['Edition'].unique()"
   ]
  },
  {
   "cell_type": "code",
   "execution_count": null,
   "id": "c5bf6997-0a7d-4afd-9e78-789f77f943ad",
   "metadata": {},
   "outputs": [],
   "source": [
    "#here i see there is lots of information for us,like books format,latest release date of books "
   ]
  },
  {
   "cell_type": "code",
   "execution_count": null,
   "id": "6018ffaf-d268-410a-adfa-710ec3a2a160",
   "metadata": {},
   "outputs": [],
   "source": [
    "#first we will extract format of the book like paperback..."
   ]
  },
  {
   "cell_type": "code",
   "execution_count": 629,
   "id": "b3308ad1-37c2-488e-8692-88f39fa3b60c",
   "metadata": {},
   "outputs": [],
   "source": [
    "def formats(x):\n",
    "    return x.split(',')[0]"
   ]
  },
  {
   "cell_type": "code",
   "execution_count": 631,
   "id": "2e60e25a-8bb8-4031-88f6-39530930e747",
   "metadata": {},
   "outputs": [],
   "source": [
    "data['format'] = data['Edition'].apply(formats)"
   ]
  },
  {
   "cell_type": "code",
   "execution_count": 633,
   "id": "694fde01-e53b-4a92-8c2c-4699accd5189",
   "metadata": {},
   "outputs": [
    {
     "data": {
      "text/html": [
       "<div>\n",
       "<style scoped>\n",
       "    .dataframe tbody tr th:only-of-type {\n",
       "        vertical-align: middle;\n",
       "    }\n",
       "\n",
       "    .dataframe tbody tr th {\n",
       "        vertical-align: top;\n",
       "    }\n",
       "\n",
       "    .dataframe thead th {\n",
       "        text-align: right;\n",
       "    }\n",
       "</style>\n",
       "<table border=\"1\" class=\"dataframe\">\n",
       "  <thead>\n",
       "    <tr style=\"text-align: right;\">\n",
       "      <th></th>\n",
       "      <th>Title</th>\n",
       "      <th>Author</th>\n",
       "      <th>Edition</th>\n",
       "      <th>Reviews</th>\n",
       "      <th>Ratings</th>\n",
       "      <th>Synopsis</th>\n",
       "      <th>Genre</th>\n",
       "      <th>BookCategory</th>\n",
       "      <th>Price</th>\n",
       "      <th>ratings</th>\n",
       "      <th>reviews</th>\n",
       "      <th>format</th>\n",
       "    </tr>\n",
       "  </thead>\n",
       "  <tbody>\n",
       "    <tr>\n",
       "      <th>0</th>\n",
       "      <td>The Prisoner's Gold (The Hunters 3)</td>\n",
       "      <td>Chris Kuzneski</td>\n",
       "      <td>Paperback,– 10 Mar 2016</td>\n",
       "      <td>4.0 out of 5 stars</td>\n",
       "      <td>8 customer reviews</td>\n",
       "      <td>THE HUNTERS return in their third brilliant no...</td>\n",
       "      <td>Action &amp; Adventure (Books)</td>\n",
       "      <td>Action &amp; Adventure</td>\n",
       "      <td>220.0</td>\n",
       "      <td>4.0</td>\n",
       "      <td>8</td>\n",
       "      <td>Paperback</td>\n",
       "    </tr>\n",
       "  </tbody>\n",
       "</table>\n",
       "</div>"
      ],
      "text/plain": [
       "                                 Title          Author  \\\n",
       "0  The Prisoner's Gold (The Hunters 3)  Chris Kuzneski   \n",
       "\n",
       "                   Edition             Reviews             Ratings  \\\n",
       "0  Paperback,– 10 Mar 2016  4.0 out of 5 stars  8 customer reviews   \n",
       "\n",
       "                                            Synopsis  \\\n",
       "0  THE HUNTERS return in their third brilliant no...   \n",
       "\n",
       "                        Genre        BookCategory  Price ratings reviews  \\\n",
       "0  Action & Adventure (Books)  Action & Adventure  220.0     4.0       8   \n",
       "\n",
       "      format  \n",
       "0  Paperback  "
      ]
     },
     "execution_count": 633,
     "metadata": {},
     "output_type": "execute_result"
    }
   ],
   "source": [
    "data.head(1)"
   ]
  },
  {
   "cell_type": "code",
   "execution_count": 635,
   "id": "06390564-77ee-4e39-81db-25aaec9ff19d",
   "metadata": {},
   "outputs": [],
   "source": [
    "# after this we will extract date from edition"
   ]
  },
  {
   "cell_type": "code",
   "execution_count": 933,
   "id": "295ab389-2137-4263-aa05-763ac49ca73b",
   "metadata": {},
   "outputs": [],
   "source": [
    "def rels_date(x):\n",
    "    return x.strip().split()[-1]"
   ]
  },
  {
   "cell_type": "code",
   "execution_count": 935,
   "id": "ba32173f-ec1f-4e2b-a36d-148f601b7c61",
   "metadata": {},
   "outputs": [],
   "source": [
    "data['latest_release'] = data['Edition'].apply(rels_date)"
   ]
  },
  {
   "cell_type": "code",
   "execution_count": 957,
   "id": "aa4f115b-f6ce-4f5f-9b82-1c0a56c6c3d9",
   "metadata": {},
   "outputs": [
    {
     "data": {
      "text/html": [
       "<div>\n",
       "<style scoped>\n",
       "    .dataframe tbody tr th:only-of-type {\n",
       "        vertical-align: middle;\n",
       "    }\n",
       "\n",
       "    .dataframe tbody tr th {\n",
       "        vertical-align: top;\n",
       "    }\n",
       "\n",
       "    .dataframe thead th {\n",
       "        text-align: right;\n",
       "    }\n",
       "</style>\n",
       "<table border=\"1\" class=\"dataframe\">\n",
       "  <thead>\n",
       "    <tr style=\"text-align: right;\">\n",
       "      <th></th>\n",
       "      <th>Title</th>\n",
       "      <th>Author</th>\n",
       "      <th>Edition</th>\n",
       "      <th>Reviews</th>\n",
       "      <th>Ratings</th>\n",
       "      <th>Synopsis</th>\n",
       "      <th>Genre</th>\n",
       "      <th>BookCategory</th>\n",
       "      <th>Price</th>\n",
       "      <th>ratings</th>\n",
       "      <th>reviews</th>\n",
       "      <th>format</th>\n",
       "      <th>latest_release</th>\n",
       "      <th>category_mean_encoded</th>\n",
       "      <th>latest_version</th>\n",
       "    </tr>\n",
       "  </thead>\n",
       "  <tbody>\n",
       "    <tr>\n",
       "      <th>0</th>\n",
       "      <td>The Prisoner's Gold (The Hunters 3)</td>\n",
       "      <td>Chris Kuzneski</td>\n",
       "      <td>Paperback,– 10 Mar 2016</td>\n",
       "      <td>4.0 out of 5 stars</td>\n",
       "      <td>8 customer reviews</td>\n",
       "      <td>THE HUNTERS return in their third brilliant no...</td>\n",
       "      <td>Action &amp; Adventure (Books)</td>\n",
       "      <td>Action &amp; Adventure</td>\n",
       "      <td>220.0</td>\n",
       "      <td>4.0</td>\n",
       "      <td>8</td>\n",
       "      <td>Paperback</td>\n",
       "      <td>2016</td>\n",
       "      <td>415.81</td>\n",
       "      <td>2016</td>\n",
       "    </tr>\n",
       "  </tbody>\n",
       "</table>\n",
       "</div>"
      ],
      "text/plain": [
       "                                 Title          Author  \\\n",
       "0  The Prisoner's Gold (The Hunters 3)  Chris Kuzneski   \n",
       "\n",
       "                   Edition             Reviews             Ratings  \\\n",
       "0  Paperback,– 10 Mar 2016  4.0 out of 5 stars  8 customer reviews   \n",
       "\n",
       "                                            Synopsis  \\\n",
       "0  THE HUNTERS return in their third brilliant no...   \n",
       "\n",
       "                        Genre        BookCategory  Price ratings reviews  \\\n",
       "0  Action & Adventure (Books)  Action & Adventure  220.0     4.0       8   \n",
       "\n",
       "      format latest_release  category_mean_encoded latest_version  \n",
       "0  Paperback           2016                 415.81           2016  "
      ]
     },
     "execution_count": 957,
     "metadata": {},
     "output_type": "execute_result"
    }
   ],
   "source": [
    "data.head(1)"
   ]
  },
  {
   "cell_type": "code",
   "execution_count": 977,
   "id": "2c273b7c-fb25-487f-bb06-0933ab046da6",
   "metadata": {},
   "outputs": [
    {
     "data": {
      "text/plain": [
       "dtype('O')"
      ]
     },
     "execution_count": 977,
     "metadata": {},
     "output_type": "execute_result"
    }
   ],
   "source": [
    "#lets check data type of latest_release\n",
    "data['latest_release'].dtype"
   ]
  },
  {
   "cell_type": "code",
   "execution_count": null,
   "id": "2629c1c6-43a1-4060-aac3-6c8ac63e4843",
   "metadata": {},
   "outputs": [],
   "source": [
    "#new feature from latest release"
   ]
  },
  {
   "cell_type": "code",
   "execution_count": 961,
   "id": "0aab7512-a0a3-43ed-92d0-55a61050aa58",
   "metadata": {},
   "outputs": [],
   "source": [
    "list_2000s = ['2016', '2012', '2017', '2006', '2009', '2018', '2015',\n",
    "              '2013', '2002', '2011', '2014', '2000', '2005', '2019',\n",
    "              '2008', '2004', '2010', '2007', '2001', '2003']\n",
    "list_1900s = ['1991', '1989', '1969', '1993', '1992', '1996', '1997',\n",
    "              '1995', '1987', '1986', '1990', '1988', '1981', '1976',\n",
    "              '1994', '1998', '1977', '1974', '1983', '1971', '1985',\n",
    "              '1978', '1964', '1984', '1980', '1979', '1960', '1970',\n",
    "              '1975', '1905', '1900', '1961', '1925', '1973']\n",
    "list_strings = ['Import', 'NTSC', 'Facsimile', 'set', 'Edition',\n",
    "                'Unabridged', 'Print', 'Audiobook']"
   ]
  },
  {
   "cell_type": "code",
   "execution_count": 963,
   "id": "28e99b3e-f176-494c-a0d0-2b85151467e5",
   "metadata": {},
   "outputs": [],
   "source": [
    "def year_cat(x):\n",
    "    if x in list_2000s:\n",
    "        return '21th century book'\n",
    "    elif x in list_1900s:\n",
    "        return '20th century book'\n",
    "    else:\n",
    "        return 'book date unknown'"
   ]
  },
  {
   "cell_type": "code",
   "execution_count": 965,
   "id": "2ff2177d-3a67-4fc7-abc3-b05a106f6d51",
   "metadata": {},
   "outputs": [],
   "source": [
    "data['book_year_category'] = data['latest_release'].apply(year_cat)"
   ]
  },
  {
   "cell_type": "code",
   "execution_count": null,
   "id": "ac544039-14ff-401a-9e73-ec32ca393007",
   "metadata": {},
   "outputs": [],
   "source": [
    "#here i made new feature book_year_category"
   ]
  },
  {
   "cell_type": "code",
   "execution_count": null,
   "id": "8076e52d-3fa1-4cef-806f-e0ec27f3d116",
   "metadata": {},
   "outputs": [],
   "source": []
  },
  {
   "cell_type": "code",
   "execution_count": null,
   "id": "bee01fd6-80ed-487e-aaaa-504a46f131c2",
   "metadata": {},
   "outputs": [],
   "source": [
    "#creating feature from BookCategory"
   ]
  },
  {
   "cell_type": "code",
   "execution_count": 221,
   "id": "4a45bf92-81ba-4a53-9b71-a6c114ee6606",
   "metadata": {},
   "outputs": [
    {
     "data": {
      "text/plain": [
       "array(['Action & Adventure', 'Biographies, Diaries & True Accounts',\n",
       "       'Humour', 'Crime, Thriller & Mystery', 'Arts, Film & Photography',\n",
       "       'Sports', 'Language, Linguistics & Writing',\n",
       "       'Computing, Internet & Digital Media', 'Romance',\n",
       "       'Comics & Mangas', 'Politics'], dtype=object)"
      ]
     },
     "execution_count": 221,
     "metadata": {},
     "output_type": "execute_result"
    }
   ],
   "source": [
    "data['BookCategory'].unique()"
   ]
  },
  {
   "cell_type": "code",
   "execution_count": 225,
   "id": "96b70b02-1379-48d6-a309-f56d362a685b",
   "metadata": {},
   "outputs": [
    {
     "data": {
      "text/plain": [
       "BookCategory\n",
       "Action & Adventure                      818\n",
       "Crime, Thriller & Mystery               723\n",
       "Biographies, Diaries & True Accounts    596\n",
       "Language, Linguistics & Writing         594\n",
       "Comics & Mangas                         583\n",
       "Romance                                 560\n",
       "Humour                                  540\n",
       "Arts, Film & Photography                517\n",
       "Computing, Internet & Digital Media     510\n",
       "Sports                                  471\n",
       "Politics                                325\n",
       "Name: count, dtype: int64"
      ]
     },
     "execution_count": 225,
     "metadata": {},
     "output_type": "execute_result"
    }
   ],
   "source": [
    "data['BookCategory'].value_counts()"
   ]
  },
  {
   "cell_type": "code",
   "execution_count": null,
   "id": "e7bdab4e-dce5-4a5f-972b-46dc4eaade3d",
   "metadata": {},
   "outputs": [],
   "source": [
    "#Target based encoding for bookcategory"
   ]
  },
  {
   "cell_type": "code",
   "execution_count": 671,
   "id": "b9dcaf22-4438-4511-a528-87b5fae70a5a",
   "metadata": {},
   "outputs": [],
   "source": [
    "category_mean = data.groupby(\"BookCategory\")['Price'].mean()"
   ]
  },
  {
   "cell_type": "code",
   "execution_count": 673,
   "id": "cbec0901-9784-44cb-9347-7517cf891e15",
   "metadata": {},
   "outputs": [],
   "source": [
    "data['category_mean_encoded'] = data['BookCategory'].map(round(category_mean,2))"
   ]
  },
  {
   "cell_type": "code",
   "execution_count": 973,
   "id": "ca6280d7-9dd5-44b9-afa0-162b70133964",
   "metadata": {},
   "outputs": [
    {
     "data": {
      "text/html": [
       "<div>\n",
       "<style scoped>\n",
       "    .dataframe tbody tr th:only-of-type {\n",
       "        vertical-align: middle;\n",
       "    }\n",
       "\n",
       "    .dataframe tbody tr th {\n",
       "        vertical-align: top;\n",
       "    }\n",
       "\n",
       "    .dataframe thead th {\n",
       "        text-align: right;\n",
       "    }\n",
       "</style>\n",
       "<table border=\"1\" class=\"dataframe\">\n",
       "  <thead>\n",
       "    <tr style=\"text-align: right;\">\n",
       "      <th></th>\n",
       "      <th>Title</th>\n",
       "      <th>Author</th>\n",
       "      <th>Edition</th>\n",
       "      <th>Reviews</th>\n",
       "      <th>Ratings</th>\n",
       "      <th>Synopsis</th>\n",
       "      <th>Genre</th>\n",
       "      <th>BookCategory</th>\n",
       "      <th>Price</th>\n",
       "      <th>ratings</th>\n",
       "      <th>reviews</th>\n",
       "      <th>format</th>\n",
       "      <th>latest_release</th>\n",
       "      <th>category_mean_encoded</th>\n",
       "      <th>latest_version</th>\n",
       "      <th>book_year_category</th>\n",
       "    </tr>\n",
       "  </thead>\n",
       "  <tbody>\n",
       "    <tr>\n",
       "      <th>0</th>\n",
       "      <td>The Prisoner's Gold (The Hunters 3)</td>\n",
       "      <td>Chris Kuzneski</td>\n",
       "      <td>Paperback,– 10 Mar 2016</td>\n",
       "      <td>4.0 out of 5 stars</td>\n",
       "      <td>8 customer reviews</td>\n",
       "      <td>THE HUNTERS return in their third brilliant no...</td>\n",
       "      <td>Action &amp; Adventure (Books)</td>\n",
       "      <td>Action &amp; Adventure</td>\n",
       "      <td>220.0</td>\n",
       "      <td>4.0</td>\n",
       "      <td>8</td>\n",
       "      <td>Paperback</td>\n",
       "      <td>2016</td>\n",
       "      <td>415.81</td>\n",
       "      <td>2016</td>\n",
       "      <td>21th century book</td>\n",
       "    </tr>\n",
       "  </tbody>\n",
       "</table>\n",
       "</div>"
      ],
      "text/plain": [
       "                                 Title          Author  \\\n",
       "0  The Prisoner's Gold (The Hunters 3)  Chris Kuzneski   \n",
       "\n",
       "                   Edition             Reviews             Ratings  \\\n",
       "0  Paperback,– 10 Mar 2016  4.0 out of 5 stars  8 customer reviews   \n",
       "\n",
       "                                            Synopsis  \\\n",
       "0  THE HUNTERS return in their third brilliant no...   \n",
       "\n",
       "                        Genre        BookCategory  Price ratings reviews  \\\n",
       "0  Action & Adventure (Books)  Action & Adventure  220.0     4.0       8   \n",
       "\n",
       "      format latest_release  category_mean_encoded latest_version  \\\n",
       "0  Paperback           2016                 415.81           2016   \n",
       "\n",
       "  book_year_category  \n",
       "0  21th century book  "
      ]
     },
     "execution_count": 973,
     "metadata": {},
     "output_type": "execute_result"
    }
   ],
   "source": [
    "data.head(1)"
   ]
  },
  {
   "cell_type": "code",
   "execution_count": null,
   "id": "306c35f0-bad3-4a29-b4c2-db05c5c0c1af",
   "metadata": {},
   "outputs": [],
   "source": [
    "#new feature from ratings we will do binning here"
   ]
  },
  {
   "cell_type": "code",
   "execution_count": 983,
   "id": "64b0dfcc-c30d-4542-b208-717a9afaa113",
   "metadata": {},
   "outputs": [
    {
     "data": {
      "text/plain": [
       "array(['4.0', '3.9', '4.8', '4.1', '5.0', '4.5', '4.4', '4.7', '4.2',\n",
       "       '4.9', '3.5', '3.8', '4.3', '3.1', '4.6', '2.0', '3.7', '3.2',\n",
       "       '2.6', '2.8', '3.4', '2.9', '3.3', '3.0', '2.5', '1.0', '3.6',\n",
       "       '2.7', '1.5', '2.3', '1.7', '2.2', '1.4', '2.4', '1.6', '2.1'],\n",
       "      dtype=object)"
      ]
     },
     "execution_count": 983,
     "metadata": {},
     "output_type": "execute_result"
    }
   ],
   "source": [
    "data['ratings'].unique()"
   ]
  },
  {
   "cell_type": "code",
   "execution_count": null,
   "id": "e191fcad-0f47-46ee-a901-a5125d8825bf",
   "metadata": {},
   "outputs": [],
   "source": [
    "#lets categorize this rating: above 4 - best, between 3 or 4 average, below 3 poor"
   ]
  },
  {
   "cell_type": "code",
   "execution_count": 985,
   "id": "753e3f24-1f9a-480c-bf38-ccb6795da865",
   "metadata": {},
   "outputs": [],
   "source": [
    "def rating_cat(x):\n",
    "    if x < 3:\n",
    "        return 'poor'\n",
    "    elif x < 4:\n",
    "        return 'average'\n",
    "    else:\n",
    "        return 'best'"
   ]
  },
  {
   "cell_type": "code",
   "execution_count": 987,
   "id": "055f4800-5f0a-4f55-b8a0-35108cec66ee",
   "metadata": {},
   "outputs": [],
   "source": [
    "data['ratings'] = data['ratings'].astype('float64')"
   ]
  },
  {
   "cell_type": "code",
   "execution_count": 989,
   "id": "49b77216-547c-4a83-8720-b848f937b5d7",
   "metadata": {},
   "outputs": [],
   "source": [
    "data['ratings_cat'] = data['ratings'].apply(rating_cat)"
   ]
  },
  {
   "cell_type": "code",
   "execution_count": 991,
   "id": "376ac8d1-3a75-4b89-8929-4c6e6fd56ae9",
   "metadata": {},
   "outputs": [
    {
     "data": {
      "text/html": [
       "<div>\n",
       "<style scoped>\n",
       "    .dataframe tbody tr th:only-of-type {\n",
       "        vertical-align: middle;\n",
       "    }\n",
       "\n",
       "    .dataframe tbody tr th {\n",
       "        vertical-align: top;\n",
       "    }\n",
       "\n",
       "    .dataframe thead th {\n",
       "        text-align: right;\n",
       "    }\n",
       "</style>\n",
       "<table border=\"1\" class=\"dataframe\">\n",
       "  <thead>\n",
       "    <tr style=\"text-align: right;\">\n",
       "      <th></th>\n",
       "      <th>Title</th>\n",
       "      <th>Author</th>\n",
       "      <th>Edition</th>\n",
       "      <th>Reviews</th>\n",
       "      <th>Ratings</th>\n",
       "      <th>Synopsis</th>\n",
       "      <th>Genre</th>\n",
       "      <th>BookCategory</th>\n",
       "      <th>Price</th>\n",
       "      <th>ratings</th>\n",
       "      <th>reviews</th>\n",
       "      <th>format</th>\n",
       "      <th>latest_release</th>\n",
       "      <th>category_mean_encoded</th>\n",
       "      <th>latest_version</th>\n",
       "      <th>book_year_category</th>\n",
       "      <th>ratings_cat</th>\n",
       "    </tr>\n",
       "  </thead>\n",
       "  <tbody>\n",
       "    <tr>\n",
       "      <th>0</th>\n",
       "      <td>The Prisoner's Gold (The Hunters 3)</td>\n",
       "      <td>Chris Kuzneski</td>\n",
       "      <td>Paperback,– 10 Mar 2016</td>\n",
       "      <td>4.0 out of 5 stars</td>\n",
       "      <td>8 customer reviews</td>\n",
       "      <td>THE HUNTERS return in their third brilliant no...</td>\n",
       "      <td>Action &amp; Adventure (Books)</td>\n",
       "      <td>Action &amp; Adventure</td>\n",
       "      <td>220.0</td>\n",
       "      <td>4.0</td>\n",
       "      <td>8</td>\n",
       "      <td>Paperback</td>\n",
       "      <td>2016</td>\n",
       "      <td>415.81</td>\n",
       "      <td>2016</td>\n",
       "      <td>21th century book</td>\n",
       "      <td>best</td>\n",
       "    </tr>\n",
       "  </tbody>\n",
       "</table>\n",
       "</div>"
      ],
      "text/plain": [
       "                                 Title          Author  \\\n",
       "0  The Prisoner's Gold (The Hunters 3)  Chris Kuzneski   \n",
       "\n",
       "                   Edition             Reviews             Ratings  \\\n",
       "0  Paperback,– 10 Mar 2016  4.0 out of 5 stars  8 customer reviews   \n",
       "\n",
       "                                            Synopsis  \\\n",
       "0  THE HUNTERS return in their third brilliant no...   \n",
       "\n",
       "                        Genre        BookCategory  Price  ratings reviews  \\\n",
       "0  Action & Adventure (Books)  Action & Adventure  220.0      4.0       8   \n",
       "\n",
       "      format latest_release  category_mean_encoded latest_version  \\\n",
       "0  Paperback           2016                 415.81           2016   \n",
       "\n",
       "  book_year_category ratings_cat  \n",
       "0  21th century book        best  "
      ]
     },
     "execution_count": 991,
     "metadata": {},
     "output_type": "execute_result"
    }
   ],
   "source": [
    "data.head(1)"
   ]
  },
  {
   "cell_type": "code",
   "execution_count": 489,
   "id": "c790afc8-b759-49d1-b8fe-b4a7dbe80f61",
   "metadata": {},
   "outputs": [
    {
     "data": {
      "text/plain": [
       "array(['best', 'average', 'poor'], dtype=object)"
      ]
     },
     "execution_count": 489,
     "metadata": {},
     "output_type": "execute_result"
    }
   ],
   "source": [
    "data['ratings_cat'].unique()"
   ]
  },
  {
   "cell_type": "code",
   "execution_count": null,
   "id": "3811a407-d10c-4e25-98ed-da5e1913fa16",
   "metadata": {},
   "outputs": [],
   "source": [
    "#new feature from reviews"
   ]
  },
  {
   "cell_type": "code",
   "execution_count": 1007,
   "id": "ea892a3d-11e2-4606-b75f-346a25acd62b",
   "metadata": {},
   "outputs": [],
   "source": [
    "#lets deal with 1,684 (,) \n",
    "data['reviews'] = data['reviews'].str.replace(',','')"
   ]
  },
  {
   "cell_type": "code",
   "execution_count": 1009,
   "id": "4a5e2c51-52b4-444b-a2c2-1735d0e72bdc",
   "metadata": {},
   "outputs": [
    {
     "data": {
      "text/html": [
       "<div>\n",
       "<style scoped>\n",
       "    .dataframe tbody tr th:only-of-type {\n",
       "        vertical-align: middle;\n",
       "    }\n",
       "\n",
       "    .dataframe tbody tr th {\n",
       "        vertical-align: top;\n",
       "    }\n",
       "\n",
       "    .dataframe thead th {\n",
       "        text-align: right;\n",
       "    }\n",
       "</style>\n",
       "<table border=\"1\" class=\"dataframe\">\n",
       "  <thead>\n",
       "    <tr style=\"text-align: right;\">\n",
       "      <th></th>\n",
       "      <th>Title</th>\n",
       "      <th>Author</th>\n",
       "      <th>Edition</th>\n",
       "      <th>Reviews</th>\n",
       "      <th>Ratings</th>\n",
       "      <th>Synopsis</th>\n",
       "      <th>Genre</th>\n",
       "      <th>BookCategory</th>\n",
       "      <th>Price</th>\n",
       "      <th>ratings</th>\n",
       "      <th>reviews</th>\n",
       "      <th>format</th>\n",
       "      <th>latest_release</th>\n",
       "      <th>category_mean_encoded</th>\n",
       "      <th>latest_version</th>\n",
       "      <th>book_year_category</th>\n",
       "      <th>ratings_cat</th>\n",
       "      <th>reviewees</th>\n",
       "    </tr>\n",
       "  </thead>\n",
       "  <tbody>\n",
       "    <tr>\n",
       "      <th>0</th>\n",
       "      <td>The Prisoner's Gold (The Hunters 3)</td>\n",
       "      <td>Chris Kuzneski</td>\n",
       "      <td>Paperback,– 10 Mar 2016</td>\n",
       "      <td>4.0 out of 5 stars</td>\n",
       "      <td>8 customer reviews</td>\n",
       "      <td>THE HUNTERS return in their third brilliant no...</td>\n",
       "      <td>Action &amp; Adventure (Books)</td>\n",
       "      <td>Action &amp; Adventure</td>\n",
       "      <td>220.0</td>\n",
       "      <td>4.0</td>\n",
       "      <td>8</td>\n",
       "      <td>Paperback</td>\n",
       "      <td>2016</td>\n",
       "      <td>415.81</td>\n",
       "      <td>2016</td>\n",
       "      <td>21th century book</td>\n",
       "      <td>best</td>\n",
       "      <td>8</td>\n",
       "    </tr>\n",
       "  </tbody>\n",
       "</table>\n",
       "</div>"
      ],
      "text/plain": [
       "                                 Title          Author  \\\n",
       "0  The Prisoner's Gold (The Hunters 3)  Chris Kuzneski   \n",
       "\n",
       "                   Edition             Reviews             Ratings  \\\n",
       "0  Paperback,– 10 Mar 2016  4.0 out of 5 stars  8 customer reviews   \n",
       "\n",
       "                                            Synopsis  \\\n",
       "0  THE HUNTERS return in their third brilliant no...   \n",
       "\n",
       "                        Genre        BookCategory  Price  ratings reviews  \\\n",
       "0  Action & Adventure (Books)  Action & Adventure  220.0      4.0       8   \n",
       "\n",
       "      format latest_release  category_mean_encoded latest_version  \\\n",
       "0  Paperback           2016                 415.81           2016   \n",
       "\n",
       "  book_year_category ratings_cat reviewees  \n",
       "0  21th century book        best         8  "
      ]
     },
     "execution_count": 1009,
     "metadata": {},
     "output_type": "execute_result"
    }
   ],
   "source": [
    "data.head(1)"
   ]
  },
  {
   "cell_type": "code",
   "execution_count": null,
   "id": "a2609138-327e-47d3-b8ce-db5228ef3d86",
   "metadata": {},
   "outputs": [],
   "source": [
    "#lets convert object type into int "
   ]
  },
  {
   "cell_type": "code",
   "execution_count": 1013,
   "id": "62e66d60-b50d-4cdc-8bdc-5cf2e038e401",
   "metadata": {},
   "outputs": [],
   "source": [
    "data['reviews'] = data['reviewees'].astype('int64')"
   ]
  },
  {
   "cell_type": "code",
   "execution_count": 1023,
   "id": "495e8272-d043-468a-bfa4-4e286581a19d",
   "metadata": {},
   "outputs": [
    {
     "data": {
      "text/html": [
       "<div>\n",
       "<style scoped>\n",
       "    .dataframe tbody tr th:only-of-type {\n",
       "        vertical-align: middle;\n",
       "    }\n",
       "\n",
       "    .dataframe tbody tr th {\n",
       "        vertical-align: top;\n",
       "    }\n",
       "\n",
       "    .dataframe thead th {\n",
       "        text-align: right;\n",
       "    }\n",
       "</style>\n",
       "<table border=\"1\" class=\"dataframe\">\n",
       "  <thead>\n",
       "    <tr style=\"text-align: right;\">\n",
       "      <th></th>\n",
       "      <th>Title</th>\n",
       "      <th>Author</th>\n",
       "      <th>Edition</th>\n",
       "      <th>Reviews</th>\n",
       "      <th>Ratings</th>\n",
       "      <th>Synopsis</th>\n",
       "      <th>Genre</th>\n",
       "      <th>BookCategory</th>\n",
       "      <th>Price</th>\n",
       "      <th>ratings</th>\n",
       "      <th>reviews</th>\n",
       "      <th>format</th>\n",
       "      <th>latest_release</th>\n",
       "      <th>category_mean_encoded</th>\n",
       "      <th>book_year_category</th>\n",
       "      <th>ratings_cat</th>\n",
       "    </tr>\n",
       "  </thead>\n",
       "  <tbody>\n",
       "    <tr>\n",
       "      <th>0</th>\n",
       "      <td>The Prisoner's Gold (The Hunters 3)</td>\n",
       "      <td>Chris Kuzneski</td>\n",
       "      <td>Paperback,– 10 Mar 2016</td>\n",
       "      <td>4.0 out of 5 stars</td>\n",
       "      <td>8 customer reviews</td>\n",
       "      <td>THE HUNTERS return in their third brilliant no...</td>\n",
       "      <td>Action &amp; Adventure (Books)</td>\n",
       "      <td>Action &amp; Adventure</td>\n",
       "      <td>220.0</td>\n",
       "      <td>4.0</td>\n",
       "      <td>8</td>\n",
       "      <td>Paperback</td>\n",
       "      <td>2016</td>\n",
       "      <td>415.81</td>\n",
       "      <td>21th century book</td>\n",
       "      <td>best</td>\n",
       "    </tr>\n",
       "  </tbody>\n",
       "</table>\n",
       "</div>"
      ],
      "text/plain": [
       "                                 Title          Author  \\\n",
       "0  The Prisoner's Gold (The Hunters 3)  Chris Kuzneski   \n",
       "\n",
       "                   Edition             Reviews             Ratings  \\\n",
       "0  Paperback,– 10 Mar 2016  4.0 out of 5 stars  8 customer reviews   \n",
       "\n",
       "                                            Synopsis  \\\n",
       "0  THE HUNTERS return in their third brilliant no...   \n",
       "\n",
       "                        Genre        BookCategory  Price  ratings  reviews  \\\n",
       "0  Action & Adventure (Books)  Action & Adventure  220.0      4.0        8   \n",
       "\n",
       "      format latest_release  category_mean_encoded book_year_category  \\\n",
       "0  Paperback           2016                 415.81  21th century book   \n",
       "\n",
       "  ratings_cat  \n",
       "0        best  "
      ]
     },
     "execution_count": 1023,
     "metadata": {},
     "output_type": "execute_result"
    }
   ],
   "source": [
    "data.head(1)"
   ]
  },
  {
   "cell_type": "code",
   "execution_count": 1025,
   "id": "a90828b0-9edc-4c59-9d4f-1f545781bdd1",
   "metadata": {},
   "outputs": [],
   "source": [
    "def reviews_cat(x):\n",
    "    if x<100:\n",
    "        return 'poor'\n",
    "    elif x<300:\n",
    "        return 'average'\n",
    "    else:\n",
    "        return 'best'"
   ]
  },
  {
   "cell_type": "code",
   "execution_count": 1027,
   "id": "ec69f432-502a-419e-a6c9-97fbdfe52010",
   "metadata": {},
   "outputs": [],
   "source": [
    "data['people_reviews'] = data['reviews'].apply(reviews_cat)"
   ]
  },
  {
   "cell_type": "code",
   "execution_count": 1033,
   "id": "899f3f32-8318-4584-b565-3ad0fbb43d19",
   "metadata": {},
   "outputs": [
    {
     "data": {
      "text/html": [
       "<div>\n",
       "<style scoped>\n",
       "    .dataframe tbody tr th:only-of-type {\n",
       "        vertical-align: middle;\n",
       "    }\n",
       "\n",
       "    .dataframe tbody tr th {\n",
       "        vertical-align: top;\n",
       "    }\n",
       "\n",
       "    .dataframe thead th {\n",
       "        text-align: right;\n",
       "    }\n",
       "</style>\n",
       "<table border=\"1\" class=\"dataframe\">\n",
       "  <thead>\n",
       "    <tr style=\"text-align: right;\">\n",
       "      <th></th>\n",
       "      <th>Title</th>\n",
       "      <th>Author</th>\n",
       "      <th>Edition</th>\n",
       "      <th>Reviews</th>\n",
       "      <th>Ratings</th>\n",
       "      <th>Synopsis</th>\n",
       "      <th>Genre</th>\n",
       "      <th>BookCategory</th>\n",
       "      <th>Price</th>\n",
       "      <th>ratings</th>\n",
       "      <th>reviews</th>\n",
       "      <th>format</th>\n",
       "      <th>latest_release</th>\n",
       "      <th>category_mean_encoded</th>\n",
       "      <th>book_year_category</th>\n",
       "      <th>ratings_cat</th>\n",
       "      <th>people_reviews</th>\n",
       "    </tr>\n",
       "  </thead>\n",
       "  <tbody>\n",
       "    <tr>\n",
       "      <th>0</th>\n",
       "      <td>The Prisoner's Gold (The Hunters 3)</td>\n",
       "      <td>Chris Kuzneski</td>\n",
       "      <td>Paperback,– 10 Mar 2016</td>\n",
       "      <td>4.0 out of 5 stars</td>\n",
       "      <td>8 customer reviews</td>\n",
       "      <td>THE HUNTERS return in their third brilliant no...</td>\n",
       "      <td>Action &amp; Adventure (Books)</td>\n",
       "      <td>Action &amp; Adventure</td>\n",
       "      <td>220.0</td>\n",
       "      <td>4.0</td>\n",
       "      <td>8</td>\n",
       "      <td>Paperback</td>\n",
       "      <td>2016</td>\n",
       "      <td>415.81</td>\n",
       "      <td>21th century book</td>\n",
       "      <td>best</td>\n",
       "      <td>poor</td>\n",
       "    </tr>\n",
       "  </tbody>\n",
       "</table>\n",
       "</div>"
      ],
      "text/plain": [
       "                                 Title          Author  \\\n",
       "0  The Prisoner's Gold (The Hunters 3)  Chris Kuzneski   \n",
       "\n",
       "                   Edition             Reviews             Ratings  \\\n",
       "0  Paperback,– 10 Mar 2016  4.0 out of 5 stars  8 customer reviews   \n",
       "\n",
       "                                            Synopsis  \\\n",
       "0  THE HUNTERS return in their third brilliant no...   \n",
       "\n",
       "                        Genre        BookCategory  Price  ratings  reviews  \\\n",
       "0  Action & Adventure (Books)  Action & Adventure  220.0      4.0        8   \n",
       "\n",
       "      format latest_release  category_mean_encoded book_year_category  \\\n",
       "0  Paperback           2016                 415.81  21th century book   \n",
       "\n",
       "  ratings_cat people_reviews  \n",
       "0        best           poor  "
      ]
     },
     "execution_count": 1033,
     "metadata": {},
     "output_type": "execute_result"
    }
   ],
   "source": [
    "data.head(1)"
   ]
  },
  {
   "cell_type": "markdown",
   "id": "be687bd9-bd83-40f8-bda7-0b50bf5ef191",
   "metadata": {},
   "source": [
    "***visualization***"
   ]
  },
  {
   "cell_type": "code",
   "execution_count": 1114,
   "id": "31aa6446-4c2a-4551-808b-08fb97758458",
   "metadata": {},
   "outputs": [
    {
     "data": {
      "text/plain": [
       "[]"
      ]
     },
     "execution_count": 1114,
     "metadata": {},
     "output_type": "execute_result"
    },
    {
     "data": {
      "image/png": "[encoded data removed]",
      "text/plain": [
       "<Figure size 1200x500 with 3 Axes>"
      ]
     },
     "metadata": {},
     "output_type": "display_data"
    }
   ],
   "source": [
    "#univariate analysis\n",
    "col = ['book_year_category','ratings_cat','people_reviews']\n",
    "nrow = 2\n",
    "ncol = 2\n",
    "iterator = 1\n",
    "plt.figure(figsize = (12,5))\n",
    "for i in col:\n",
    "    plt.subplot(nrow,ncol,iterator)\n",
    "    sns.countplot(x = i,data = data)\n",
    "    plt.title(i)\n",
    "    iterator +=1\n",
    "plt.tight_layout()\n",
    "plt.plot()"
   ]
  },
  {
   "cell_type": "code",
   "execution_count": null,
   "id": "bf0d4b0f-a0f4-4f0a-a5bb-ab3e15d1d7df",
   "metadata": {},
   "outputs": [],
   "source": [
    "#in first graph we can see that most books we have in this dataset is released after 2000\n",
    "#in secong graph we can see that mostly books have best ratings\n",
    "#in third graph we can see that mostly people don't like writing reviews hence reviews count is very less per book"
   ]
  },
  {
   "cell_type": "code",
   "execution_count": 1133,
   "id": "64b8d62f-1a8a-4184-af24-fc5397cfb333",
   "metadata": {},
   "outputs": [
    {
     "data": {
      "text/plain": [
       "[]"
      ]
     },
     "execution_count": 1133,
     "metadata": {},
     "output_type": "execute_result"
    },
    {
     "data": {
      "image/png": "[encoded data removed]",
      "text/plain": [
       "<Figure size 1200x500 with 3 Axes>"
      ]
     },
     "metadata": {},
     "output_type": "display_data"
    }
   ],
   "source": [
    "#Bivariate analysis\n",
    "col = ['ratings_cat','people_reviews','book_year_category']\n",
    "nrow = 2\n",
    "ncol = 2\n",
    "iterator = 1\n",
    "plt.figure(figsize = (12,5))\n",
    "for i in col:\n",
    "    plt.subplot(nrow,ncol,iterator)\n",
    "    sns.boxplot(x = i ,y = 'Price',data=data)\n",
    "    plt.title(i)\n",
    "    iterator +=1\n",
    "plt.tight_layout()\n",
    "plt.plot()"
   ]
  },
  {
   "cell_type": "code",
   "execution_count": null,
   "id": "751775f9-1218-4e71-9f58-3e100bfb2b2d",
   "metadata": {},
   "outputs": [],
   "source": [
    "#here i see best books category have higher price. and 21th century book have higher price since its latest edition "
   ]
  },
  {
   "cell_type": "markdown",
   "id": "4fa1a443-46ae-4a31-813d-19ad3c45650f",
   "metadata": {},
   "source": [
    "**hypothesis testing**"
   ]
  },
  {
   "cell_type": "code",
   "execution_count": null,
   "id": "db1c9525-9d93-497f-a68a-92814a5e17aa",
   "metadata": {},
   "outputs": [],
   "source": [
    "#for all the features we have made lets do hypothesis testing and check which featue is important to keep or which not "
   ]
  },
  {
   "cell_type": "code",
   "execution_count": null,
   "id": "5a3cbb0f-c86a-41d2-a739-cc431b0f482e",
   "metadata": {},
   "outputs": [],
   "source": [
    "# Price vs rating cat"
   ]
  },
  {
   "cell_type": "code",
   "execution_count": null,
   "id": "9751efff-223c-4579-8a80-187fd28011b2",
   "metadata": {},
   "outputs": [],
   "source": [
    "#since we have only three category we will use one-way anova"
   ]
  },
  {
   "cell_type": "code",
   "execution_count": null,
   "id": "886ae3b3-3b10-49b3-ad6f-bd1e4c208d33",
   "metadata": {},
   "outputs": [],
   "source": [
    "#ho: both are independent\n",
    "#ha: they are related"
   ]
  },
  {
   "cell_type": "code",
   "execution_count": 1035,
   "id": "c0dbe9d6-cbd3-4ae7-952a-3e09e7633ac5",
   "metadata": {},
   "outputs": [],
   "source": [
    "best = data[data['ratings_cat'] == 'best']['Price']\n",
    "poor = data[data['ratings_cat'] == 'poor']['Price']\n",
    "average = data[data['ratings_cat'] == 'average']['Price']"
   ]
  },
  {
   "cell_type": "code",
   "execution_count": 1037,
   "id": "0354a077-c659-4a15-b55d-2865c59b9db9",
   "metadata": {},
   "outputs": [
    {
     "data": {
      "text/plain": [
       "(ShapiroResult(statistic=0.508510976774265, pvalue=3.888702306698194e-79),\n",
       " ShapiroResult(statistic=0.5998266886380982, pvalue=1.355964537813416e-20))"
      ]
     },
     "execution_count": 1037,
     "metadata": {},
     "output_type": "execute_result"
    }
   ],
   "source": [
    "#normality and equality variance check\n",
    "stats.shapiro(best),stats.shapiro(poor)"
   ]
  },
  {
   "cell_type": "code",
   "execution_count": 1039,
   "id": "be4bea6e-b8a8-46d7-809e-f1f437a06b9c",
   "metadata": {},
   "outputs": [
    {
     "name": "stdout",
     "output_type": "stream",
     "text": [
      "reject the ho, means they are related\n"
     ]
    }
   ],
   "source": [
    "#normality test fails so we use kruskal wallis test\n",
    "t_stats, pvalue = stats.kruskal(best,poor,average)\n",
    "if pvalue<0.05:\n",
    "    print('reject the ho, means they are related')\n",
    "else:\n",
    "    print('fail to reject the null hypothesis')\n",
    "#since they are related we will keep this feature for our modeling"
   ]
  },
  {
   "cell_type": "code",
   "execution_count": null,
   "id": "d4b380b7-7540-4964-9bb9-c44c82fd069c",
   "metadata": {},
   "outputs": [],
   "source": []
  },
  {
   "cell_type": "code",
   "execution_count": null,
   "id": "0cc2b0aa-01d1-4095-89c5-4dd22c28bcc5",
   "metadata": {},
   "outputs": [],
   "source": [
    "#price vs people_reviews"
   ]
  },
  {
   "cell_type": "code",
   "execution_count": null,
   "id": "d13556b6-1000-48c5-a07c-e65b2e6f18f1",
   "metadata": {},
   "outputs": [],
   "source": [
    "#ho: price and review_cat are ind\n",
    "#ha: they are related"
   ]
  },
  {
   "cell_type": "code",
   "execution_count": 1041,
   "id": "f0e03b6f-d9d3-4613-8ba9-59236de69156",
   "metadata": {},
   "outputs": [],
   "source": [
    "poor = data[data['people_reviews'] == 'poor']['Price']\n",
    "average = data[data['people_reviews'] == 'average']['Price']\n",
    "best = data[data['people_reviews'] == 'best']['Price']"
   ]
  },
  {
   "cell_type": "code",
   "execution_count": 1043,
   "id": "65ad9f08-84b0-4d01-a9d7-ce9a6ca9675b",
   "metadata": {},
   "outputs": [
    {
     "data": {
      "text/plain": [
       "ShapiroResult(statistic=0.41946381977963376, pvalue=6.951274229253641e-29)"
      ]
     },
     "execution_count": 1043,
     "metadata": {},
     "output_type": "execute_result"
    }
   ],
   "source": [
    "stats.shapiro(average) #normality test"
   ]
  },
  {
   "cell_type": "code",
   "execution_count": 1045,
   "id": "67f3f4ee-42d8-42ea-b98b-c0970fc8896e",
   "metadata": {},
   "outputs": [],
   "source": [
    "t_test,pvalue = stats.kruskal(poor,average,best) #kruskal test for non-parametric"
   ]
  },
  {
   "cell_type": "code",
   "execution_count": 1047,
   "id": "95c80256-e026-47bf-8a74-b0db4121bf04",
   "metadata": {},
   "outputs": [
    {
     "name": "stdout",
     "output_type": "stream",
     "text": [
      "reject the ho, means they are related\n"
     ]
    }
   ],
   "source": [
    "if pvalue<0.05:\n",
    "    print('reject the ho, means they are related')\n",
    "else:\n",
    "    print('fail to reject the null hypothesis')"
   ]
  },
  {
   "cell_type": "code",
   "execution_count": null,
   "id": "8fee86bc-4f7c-4868-9eac-d51e92558eec",
   "metadata": {},
   "outputs": [],
   "source": []
  },
  {
   "cell_type": "code",
   "execution_count": null,
   "id": "714091fe-b6f6-4e98-a2cf-ba71460c078d",
   "metadata": {},
   "outputs": [],
   "source": [
    "#price vs format"
   ]
  },
  {
   "cell_type": "code",
   "execution_count": 1049,
   "id": "e2bb5402-a9cb-4e0f-895c-c92acf51a055",
   "metadata": {},
   "outputs": [
    {
     "data": {
      "text/plain": [
       "array(['Paperback', 'Hardcover', 'Mass Market Paperback', 'Sheet music',\n",
       "       'Flexibound', 'Plastic Comb', 'Loose Leaf', 'Tankobon Softcover',\n",
       "       'Perfect Paperback', 'Board book', 'Cards', 'Spiral-bound',\n",
       "       '(Kannada)', 'Product Bundle', 'Library Binding', '(German)',\n",
       "       'Leather Bound', '(French)', '(Spanish)'], dtype=object)"
      ]
     },
     "execution_count": 1049,
     "metadata": {},
     "output_type": "execute_result"
    }
   ],
   "source": [
    "data['format'].unique()"
   ]
  },
  {
   "cell_type": "code",
   "execution_count": null,
   "id": "5eecebb9-5426-4e81-962d-f6d70f52a832",
   "metadata": {},
   "outputs": [],
   "source": [
    "#since there are so many categores we will use two - way anova\n",
    "#check price vs category_mean_encoded"
   ]
  },
  {
   "cell_type": "code",
   "execution_count": 1051,
   "id": "a5c917eb-54d6-4da6-bc70-254926b13846",
   "metadata": {},
   "outputs": [],
   "source": [
    "import statsmodels.api as sma\n",
    "from statsmodels.stats.anova import anova_lm\n",
    "from statsmodels.formula.api import ols"
   ]
  },
  {
   "cell_type": "code",
   "execution_count": 1053,
   "id": "0de0c8db-e95d-4ced-b306-abad1ab3f480",
   "metadata": {},
   "outputs": [
    {
     "name": "stdout",
     "output_type": "stream",
     "text": [
      "                           df        sum_sq       mean_sq           F  \\\n",
      "format                   18.0  3.654720e+08  2.030400e+07   53.155985   \n",
      "category_mean_encoded     1.0  2.297313e+08  2.297313e+08  601.437813   \n",
      "Residual               6217.0  2.374709e+09  3.819702e+05         NaN   \n",
      "\n",
      "                              PR(>F)  \n",
      "format                 1.247093e-177  \n",
      "category_mean_encoded  7.384567e-127  \n",
      "Residual                         NaN  \n"
     ]
    }
   ],
   "source": [
    "model = ols('Price~format+category_mean_encoded',data = data).fit()\n",
    "print(anova_lm(model))"
   ]
  },
  {
   "cell_type": "code",
   "execution_count": null,
   "id": "dd62c008-35a0-4dab-a9ad-ce3b6356102a",
   "metadata": {},
   "outputs": [],
   "source": [
    "#since p value very small they are related too.."
   ]
  },
  {
   "cell_type": "code",
   "execution_count": null,
   "id": "699a1afe-d633-4c07-bac8-7be7109bbe88",
   "metadata": {},
   "outputs": [],
   "source": []
  },
  {
   "cell_type": "code",
   "execution_count": null,
   "id": "c2a0c81b-62aa-440a-8dd0-257790c358e1",
   "metadata": {},
   "outputs": [],
   "source": [
    "#price vs book_year_category"
   ]
  },
  {
   "cell_type": "code",
   "execution_count": null,
   "id": "0c68a0e0-afc0-47dd-881d-976eee84aa1e",
   "metadata": {},
   "outputs": [],
   "source": [
    "#null hypothesis: price and book_year_category independent\n",
    "#alternative hypothesis: price and book_year_category are related"
   ]
  },
  {
   "cell_type": "code",
   "execution_count": 1057,
   "id": "b42f7b3f-2a92-4862-abbd-1475e62d347a",
   "metadata": {},
   "outputs": [
    {
     "data": {
      "text/plain": [
       "array(['21th century book', 'book date unknown', '20th century book'],\n",
       "      dtype=object)"
      ]
     },
     "execution_count": 1057,
     "metadata": {},
     "output_type": "execute_result"
    }
   ],
   "source": [
    "data['book_year_category'].unique()"
   ]
  },
  {
   "cell_type": "code",
   "execution_count": 1071,
   "id": "0570b71b-a64c-4aa6-9ac2-9d17c9b88350",
   "metadata": {},
   "outputs": [],
   "source": [
    "a = data[data['book_year_category'] == '21th century book']['Price']\n",
    "b = data[data['book_year_category'] == 'book date unknown']['Price']\n",
    "c = data[data['book_year_category'] == '20th century book']['Price']"
   ]
  },
  {
   "cell_type": "code",
   "execution_count": 1069,
   "id": "ba8a5036-19d1-4bac-8ada-0fbd9c680707",
   "metadata": {},
   "outputs": [],
   "source": [
    "#normality test "
   ]
  },
  {
   "cell_type": "code",
   "execution_count": 1073,
   "id": "a3ff990c-b54b-4849-8393-4a642096b03c",
   "metadata": {},
   "outputs": [
    {
     "data": {
      "text/plain": [
       "ShapiroResult(statistic=0.5257803101730063, pvalue=1.625893745698846e-82)"
      ]
     },
     "execution_count": 1073,
     "metadata": {},
     "output_type": "execute_result"
    }
   ],
   "source": [
    "stats.shapiro(a)"
   ]
  },
  {
   "cell_type": "code",
   "execution_count": 1079,
   "id": "37ad20d2-4e33-4c2c-8d1a-15873f6bc90b",
   "metadata": {},
   "outputs": [],
   "source": [
    "#noramilty failed so-\n",
    "t_test,pvalue = stats.kruskal(a,b,c)"
   ]
  },
  {
   "cell_type": "code",
   "execution_count": 1085,
   "id": "9d10f287-9925-4e4c-a6d0-af2cfe3ff2f7",
   "metadata": {},
   "outputs": [
    {
     "name": "stdout",
     "output_type": "stream",
     "text": [
      "fail to reject null hypothesis,means they are independent,not good for modeling\n"
     ]
    }
   ],
   "source": [
    "if pvalue<0.05:\n",
    "    print('reject null hypothesis')\n",
    "else:\n",
    "    print('fail to reject null hypothesis,means they are independent,not good for modeling')"
   ]
  },
  {
   "cell_type": "code",
   "execution_count": 1123,
   "id": "e5b84434-5d2d-4352-9812-55a060840792",
   "metadata": {},
   "outputs": [
    {
     "data": {
      "text/html": [
       "<div>\n",
       "<style scoped>\n",
       "    .dataframe tbody tr th:only-of-type {\n",
       "        vertical-align: middle;\n",
       "    }\n",
       "\n",
       "    .dataframe tbody tr th {\n",
       "        vertical-align: top;\n",
       "    }\n",
       "\n",
       "    .dataframe thead th {\n",
       "        text-align: right;\n",
       "    }\n",
       "</style>\n",
       "<table border=\"1\" class=\"dataframe\">\n",
       "  <thead>\n",
       "    <tr style=\"text-align: right;\">\n",
       "      <th></th>\n",
       "      <th>Title</th>\n",
       "      <th>Author</th>\n",
       "      <th>Edition</th>\n",
       "      <th>Reviews</th>\n",
       "      <th>Ratings</th>\n",
       "      <th>Synopsis</th>\n",
       "      <th>Genre</th>\n",
       "      <th>BookCategory</th>\n",
       "      <th>Price</th>\n",
       "      <th>ratings</th>\n",
       "      <th>reviews</th>\n",
       "      <th>format</th>\n",
       "      <th>latest_release</th>\n",
       "      <th>category_mean_encoded</th>\n",
       "      <th>book_year_category</th>\n",
       "      <th>ratings_cat</th>\n",
       "      <th>people_reviews</th>\n",
       "    </tr>\n",
       "  </thead>\n",
       "  <tbody>\n",
       "    <tr>\n",
       "      <th>0</th>\n",
       "      <td>The Prisoner's Gold (The Hunters 3)</td>\n",
       "      <td>Chris Kuzneski</td>\n",
       "      <td>Paperback,– 10 Mar 2016</td>\n",
       "      <td>4.0 out of 5 stars</td>\n",
       "      <td>8 customer reviews</td>\n",
       "      <td>THE HUNTERS return in their third brilliant no...</td>\n",
       "      <td>Action &amp; Adventure (Books)</td>\n",
       "      <td>Action &amp; Adventure</td>\n",
       "      <td>220.0</td>\n",
       "      <td>4.0</td>\n",
       "      <td>8</td>\n",
       "      <td>Paperback</td>\n",
       "      <td>2016</td>\n",
       "      <td>415.81</td>\n",
       "      <td>21th century book</td>\n",
       "      <td>best</td>\n",
       "      <td>poor</td>\n",
       "    </tr>\n",
       "  </tbody>\n",
       "</table>\n",
       "</div>"
      ],
      "text/plain": [
       "                                 Title          Author  \\\n",
       "0  The Prisoner's Gold (The Hunters 3)  Chris Kuzneski   \n",
       "\n",
       "                   Edition             Reviews             Ratings  \\\n",
       "0  Paperback,– 10 Mar 2016  4.0 out of 5 stars  8 customer reviews   \n",
       "\n",
       "                                            Synopsis  \\\n",
       "0  THE HUNTERS return in their third brilliant no...   \n",
       "\n",
       "                        Genre        BookCategory  Price  ratings  reviews  \\\n",
       "0  Action & Adventure (Books)  Action & Adventure  220.0      4.0        8   \n",
       "\n",
       "      format latest_release  category_mean_encoded book_year_category  \\\n",
       "0  Paperback           2016                 415.81  21th century book   \n",
       "\n",
       "  ratings_cat people_reviews  \n",
       "0        best           poor  "
      ]
     },
     "execution_count": 1123,
     "metadata": {},
     "output_type": "execute_result"
    }
   ],
   "source": [
    "data.head(1)"
   ]
  },
  {
   "cell_type": "code",
   "execution_count": 1135,
   "id": "853ca735-e7df-4a38-8bf0-ee9a1bbfe8db",
   "metadata": {},
   "outputs": [],
   "source": [
    "data.to_csv('cleaned_data.csv',index = False)"
   ]
  },
  {
   "cell_type": "code",
   "execution_count": null,
   "id": "656def33-495e-465d-a916-7258bf15f14f",
   "metadata": {},
   "outputs": [],
   "source": []
  }
 ],
 "metadata": {
  "kernelspec": {
   "display_name": "Python 3 (ipykernel)",
   "language": "python",
   "name": "python3"
  },
  "language_info": {
   "codemirror_mode": {
    "name": "ipython",
    "version": 3
   },
   "file_extension": ".py",
   "mimetype": "text/x-python",
   "name": "python",
   "nbconvert_exporter": "python",
   "pygments_lexer": "ipython3",
   "version": "3.12.4"
  }
 },
 "nbformat": 4,
 "nbformat_minor": 5
}
